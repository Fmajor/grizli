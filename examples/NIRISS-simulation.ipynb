{
 "cells": [
  {
   "cell_type": "code",
   "execution_count": 1,
   "metadata": {
    "collapsed": true
   },
   "outputs": [],
   "source": [
    "%matplotlib inline"
   ]
  },
  {
   "cell_type": "code",
   "execution_count": 20,
   "metadata": {
    "collapsed": false
   },
   "outputs": [
    {
     "name": "stdout",
     "output_type": "stream",
     "text": [
      "\n",
      " grizli version: 0.2.1-27-ga90792c\n"
     ]
    }
   ],
   "source": [
    "import os\n",
    "import glob\n",
    "from collections import OrderedDict\n",
    "\n",
    "import matplotlib as mpl    \n",
    "import matplotlib.pyplot as plt    \n",
    "import matplotlib.gridspec\n",
    "mpl.rcParams['figure.figsize'] = (10.0, 6.0)\n",
    "mpl.rcParams['font.size'] = 14\n",
    "mpl.rcParams['savefig.dpi'] = 72\n",
    "\n",
    "import numpy as np\n",
    "\n",
    "from astropy.io import fits\n",
    "import astropy.wcs \n",
    "from astropy.table import Table\n",
    "from astropy.coordinates import SkyCoord\n",
    "import astropy.units as u\n",
    "    \n",
    "import pysynphot as S\n",
    "\n",
    "import grizli\n",
    "import grizli.fake_image\n",
    "\n",
    "print('\\n grizli version: %s' %(grizli.__version__))"
   ]
  },
  {
   "cell_type": "code",
   "execution_count": 12,
   "metadata": {
    "collapsed": false
   },
   "outputs": [],
   "source": [
    "## Fetch current placeholder NIRISS configuration files\n",
    "if not os.path.exists(os.path.join(os.getenv('GRIZLI'), 'CONF/NIRISS.F150W.conf')):\n",
    "    cwd = os.getcwd()\n",
    "    os.chdir(os.path.join(os.getenv('GRIZLI'), 'CONF'))\n",
    "    os.system('wget http://www.stsci.edu/jwst/instruments/niriss/software-tools/wfss-simulations/niriss-wfss.tar')\n",
    "    os.system('tar xvf niriss-wfss.tar cookbook/CONF')\n",
    "    os.system('ln -s cookbook/CONF/NIRISS* .')"
   ]
  },
  {
   "cell_type": "markdown",
   "metadata": {},
   "source": [
    "### Set up files for simulating the WFC3/IR HUDF field"
   ]
  },
  {
   "cell_type": "code",
   "execution_count": 13,
   "metadata": {
    "collapsed": true
   },
   "outputs": [],
   "source": [
    "os.chdir('/tmp/')\n",
    "\n",
    "## Fetch WFC3/IR F140W images of the UDF\n",
    "if not os.path.exists('hlsp_xdf_hst_wfc3ir-60mas_hudf_f140w_v1_sci.fits'):\n",
    "    url = 'https://archive.stsci.edu/missions/hlsp/xdf/'\n",
    "    os.system('wget %s/hlsp_xdf_hst_wfc3ir-60mas_hudf_f140w_v1_sci.fits' %(url))\n",
    "    os.system('wget %s/hlsp_xdf_hst_wfc3ir-60mas_hudf_f140w_v1_wht.fits' %(url))\n",
    "    \n",
    "## 3D-HST photometry around the HUDF field, and an extension with best-fit photo-z SED\n",
    "if not os.path.exists('udf_3dhst_cat.fits'):\n",
    "    os.system('wget http://www.stsci.edu/~brammer/Grizli/Demos/udf_3dhst_cat.fits')"
   ]
  },
  {
   "cell_type": "code",
   "execution_count": 16,
   "metadata": {
    "collapsed": false
   },
   "outputs": [
    {
     "name": "stdout",
     "output_type": "stream",
     "text": [
      "udf_f140w_photutils: photutils.detect_sources (detect_thresh=1.4, grow_seg=3, gauss_fwhm=2.0, ZP=26.5)\n",
      "udf_f140w_photutils: photutils.source_properties\n",
      "Rename column: ycentroid -> y_flt\n",
      "Rename column: ra_icrs_centroid -> ra\n",
      "Rename column: dec_icrs_centroid -> dec\n",
      "Rename column: xcentroid -> x_flt\n",
      "\u001b[1A\u001b[1Mudf_f140w_photutils: photutils.source_properties - 3354 objects\n"
     ]
    }
   ],
   "source": [
    "## Make an object catalog / segmentation image with photutils\n",
    "sci = fits.open('hlsp_xdf_hst_wfc3ir-60mas_hudf_f140w_v1_sci.fits')\n",
    "wht = fits.open('hlsp_xdf_hst_wfc3ir-60mas_hudf_f140w_v1_wht.fits')\n",
    "rms = 1/np.sqrt(wht[0].data)\n",
    "rms[~np.isfinite(rms)] = 1000\n",
    "dq = rms > 900\n",
    "wcs = astropy.wcs.WCS(sci[0].header)\n",
    "\n",
    "# Run the detection with the grizli / photutils wrapper\n",
    "cat, seg = grizli.utils.detect_with_photutils(sci[0].data, err=rms, dq=dq, seg=None, \n",
    "                                              detect_thresh=1.4, npixels=6, grow_seg=3, \n",
    "                                              gauss_fwhm=2.0, gsize=3, wcs=wcs, save_detection=False, \n",
    "                                              root='udf_f140w_photutils', background=None, gain=None, \n",
    "                                              AB_zeropoint=26.452, \n",
    "                                              rename_columns={'ycentroid': 'y_flt', 'xcentroid': 'x_flt', \n",
    "                                                              'dec_icrs_centroid': 'dec', 'ra_icrs_centroid': 'ra'}, \n",
    "                                              clobber=True, verbose=True)\n",
    "\n",
    "# code expects this columns later....\n",
    "cat['NUMBER'] = cat['id']"
   ]
  },
  {
   "cell_type": "code",
   "execution_count": 17,
   "metadata": {
    "collapsed": true
   },
   "outputs": [],
   "source": [
    "# Get matches from 3D-HST catalog\n",
    "ref_3dhst = fits.open('udf_3dhst_cat.fits')\n",
    "ref_cat = Table.read(ref_3dhst[1])\n",
    "\n",
    "gs = SkyCoord(ra=ref_cat['ra']*u.degree, dec=ref_cat['dec']*u.degree)\n",
    "cat_rd = SkyCoord(ra=cat['ra'], dec=cat['dec'])\n",
    "\n",
    "gs_idx, d2d, d3d = cat_rd.match_to_catalog_sky(gs)\n",
    "has_gs_match = np.where(d2d < 2*u.arcsec)[0]\n",
    "\n",
    "# Use 3D-HST mags because quick photutils catalog has some issues, \n",
    "# perhaps related to background subtraction\n",
    "gs_mag = 25-2.5*np.log10(ref_cat['F204'])\n",
    "cat['MAG_AUTO'] = gs_mag[gs_idx] \n",
    "cat.write('udf_f140w_photutils.cat', format='ascii.commented_header')\n",
    "\n",
    "fits.writeto('udf_f140w_photutils_seg.fits', data=np.cast[int](seg), header=sci[0].header, clobber=True)"
   ]
  },
  {
   "cell_type": "markdown",
   "metadata": {},
   "source": [
    "### Make fake images with NIRISS dimensions\n",
    "\n",
    "Simulate three broad-band filters (F115W, F150W, F200W) at two orients rotated by 90 degrees.  For now, rotate the catalogs, but NIRISS will have two grisms to obtain the two orients in a single visit."
   ]
  },
  {
   "cell_type": "code",
   "execution_count": 18,
   "metadata": {
    "collapsed": false
   },
   "outputs": [
    {
     "name": "stdout",
     "output_type": "stream",
     "text": [
      "Filter: F115W, Background: 0.47 e/s/pix, RN: 6 e/exp\n",
      "Filter: F115W, Background: 0.47 e/s/pix, RN: 6 e/exp\n",
      "Filter: F150W, Background: 0.48 e/s/pix, RN: 6 e/exp\n",
      "Filter: F150W, Background: 0.48 e/s/pix, RN: 6 e/exp\n",
      "Filter: F200W, Background: 0.44 e/s/pix, RN: 6 e/exp\n",
      "Filter: F200W, Background: 0.44 e/s/pix, RN: 6 e/exp\n"
     ]
    }
   ],
   "source": [
    "## Setup fake images, cendered in the UDF/XDF\n",
    "ra, dec = 53.1592277508136, -27.782056346146\n",
    "pa_aper = 128.589\n",
    "\n",
    "np.random.seed(1)\n",
    "# Crude exposure parameters.  Rough read noise and backgrounds coded in \n",
    "# grizli.fake_image to make some reasonable noise estimate\n",
    "EXPTIME = 1.e4 # 10 ks ~ 4 HST orbits\n",
    "NEXP = 10      # divided between 10 exposures\n",
    "\n",
    "# JWST NIRISS, three filters & two orients\n",
    "for filt in ['F115W', 'F150W', 'F200W']:\n",
    "    for theta in [0,90]:\n",
    "        h, wcs = grizli.fake_image.niriss_header(filter=filt, ra=ra, dec=dec, pa_aper=pa_aper+theta)\n",
    "        print('Filter: {filter}, Background: {bg} e/s/pix, RN: {RN} e/exp'.format(filter=filt, \n",
    "                                                                                  bg=h['BACKGR'], RN=h['READN']))\n",
    "        output = 'niriss_{filt}_{theta:02d}_flt.fits'.format(filt=filt, theta=theta)\n",
    "        grizli.fake_image.make_fake_image(h, output=output, exptime=EXPTIME, nexp=NEXP)"
   ]
  },
  {
   "cell_type": "markdown",
   "metadata": {},
   "source": [
    "#### Initialize a `grizli.multifit.GroupFLT` object and simulate spectra"
   ]
  },
  {
   "cell_type": "code",
   "execution_count": 21,
   "metadata": {
    "collapsed": false
   },
   "outputs": [
    {
     "name": "stdout",
     "output_type": "stream",
     "text": [
      "Image cutout: x=slice(609, 4986, None), y=slice(997, 5250, None) [Out of range]\n",
      "niriss_F115W_90_flt.fits / blot reference hlsp_xdf_hst_wfc3ir-60mas_hudf_f140w_v1_sci.fits[0]\n",
      "Image cutout: x=slice(609, 4984, None), y=slice(997, 5250, None) [Out of range]\n",
      "Image cutout: x=slice(609, 4984, None), y=slice(997, 5250, None) [Out of range]\n",
      "Image cutout: x=slice(609, 4986, None), y=slice(997, 5250, None) [Out of range]\n",
      "niriss_F115W_00_flt.fits / blot reference hlsp_xdf_hst_wfc3ir-60mas_hudf_f140w_v1_sci.fits[0]\n",
      "niriss_F150W_90_flt.fits / blot reference hlsp_xdf_hst_wfc3ir-60mas_hudf_f140w_v1_sci.fits[0]\n",
      "Image cutout: x=slice(609, 4986, None), y=slice(997, 5250, None) [Out of range]\n",
      "niriss_F150W_00_flt.fits / blot reference hlsp_xdf_hst_wfc3ir-60mas_hudf_f140w_v1_sci.fits[0]\n",
      "Image cutout: x=slice(609, 4984, None), y=slice(997, 5250, None) [Out of range]\n",
      "niriss_F200W_00_flt.fits / blot reference hlsp_xdf_hst_wfc3ir-60mas_hudf_f140w_v1_sci.fits[0]\n",
      "niriss_F200W_90_flt.fits / blot reference hlsp_xdf_hst_wfc3ir-60mas_hudf_f140w_v1_sci.fits[0]\n",
      "Using default C-based coordinate transformation...\n",
      "Using default C-based coordinate transformation...\n",
      "Using default C-based coordinate transformation...\n",
      "Using default C-based coordinate transformation...\n",
      "Using default C-based coordinate transformation...\n",
      "Using default C-based coordinate transformation...\n",
      "Image cutout: x=slice(609, 4986, None), y=slice(997, 5250, None) [Out of range]\n",
      "niriss_F115W_90_flt.fits / Pad ref HDU with 659 pixels\n",
      "Image cutout: x=slice(609, 4984, None), y=slice(997, 5250, None) [Out of range]\n",
      "niriss_F150W_00_flt.fits / Pad ref HDU with 659 pixels\n",
      "Image cutout: x=slice(609, 4986, None), y=slice(997, 5250, None) [Out of range]\n",
      "niriss_F150W_90_flt.fits / Pad ref HDU with 659 pixels\n",
      "Image cutout: x=slice(609, 4984, None), y=slice(997, 5250, None) [Out of range]\n",
      "niriss_F115W_00_flt.fits / Pad ref HDU with 659 pixels\n",
      "Image cutout: x=slice(609, 4986, None), y=slice(997, 5250, None) [Out of range]\n",
      "Image cutout: x=slice(609, 4984, None), y=slice(997, 5250, None) [Out of range]\n",
      "niriss_F200W_00_flt.fits / Pad ref HDU with 659 pixels\n",
      "niriss_F200W_90_flt.fits / Pad ref HDU with 659 pixels\n",
      "niriss_F115W_00_flt.fits / blot segmentation udf_f140w_photutils_seg.fits[0]\n",
      "niriss_F115W_90_flt.fits / blot segmentation udf_f140w_photutils_seg.fits[0]\n",
      "niriss_F150W_90_flt.fits / blot segmentation udf_f140w_photutils_seg.fits[0]\n",
      "niriss_F150W_00_flt.fits / blot segmentation udf_f140w_photutils_seg.fits[0]\n",
      "niriss_F200W_90_flt.fits / blot segmentation udf_f140w_photutils_seg.fits[0]\n",
      "niriss_F200W_00_flt.fits / blot segmentation udf_f140w_photutils_seg.fits[0]\n",
      "Using default C-based coordinate transformation...\n",
      "Using default C-based coordinate transformation...\n",
      "Using default C-based coordinate transformation...\n",
      "Using default C-based coordinate transformation...\n",
      "Using default C-based coordinate transformation...\n",
      "Using default C-based coordinate transformation...\n",
      "Using default C-based coordinate transformation...\n",
      "Using default C-based coordinate transformation...\n",
      "Using default C-based coordinate transformation...\n",
      "Using default C-based coordinate transformation...\n",
      "Using default C-based coordinate transformation...\n",
      "Using default C-based coordinate transformation...\n",
      "Files loaded - 23.93 sec.\n"
     ]
    }
   ],
   "source": [
    "# Load GroupFLT for simulation, NB: input files are just noise\n",
    "sim = grizli.multifit.GroupFLT(grism_files=glob.glob('niriss_*flt.fits'), direct_files=[], \n",
    "                               ref_file='hlsp_xdf_hst_wfc3ir-60mas_hudf_f140w_v1_sci.fits', \n",
    "                               seg_file='udf_f140w_photutils_seg.fits', catalog='udf_f140w_photutils.cat',\n",
    "                               cpu_count=0, pad=200)"
   ]
  },
  {
   "cell_type": "code",
   "execution_count": 22,
   "metadata": {
    "collapsed": false
   },
   "outputs": [
    {
     "name": "stdout",
     "output_type": "stream",
     "text": [
      "niriss_F115W_00_flt.fits: _compute_model Done\n",
      "niriss_F115W_90_flt.fits: _compute_model Done\n",
      "niriss_F150W_00_flt.fits: _compute_model Done\n",
      "niriss_F150W_90_flt.fits: _compute_model Done\n",
      "niriss_F200W_00_flt.fits: _compute_model Done\n",
      "niriss_F200W_90_flt.fits: _compute_model Done\n",
      "Models computed - 55.05 sec.\n"
     ]
    }
   ],
   "source": [
    "# First pass, flat continuum\n",
    "sim.compute_full_model(mag_limit=27)"
   ]
  },
  {
   "cell_type": "code",
   "execution_count": 23,
   "metadata": {
    "collapsed": true
   },
   "outputs": [],
   "source": [
    "# Compute model spectra for 3D-HST matches from photo-z templates\n",
    "detection_bp = S.ObsBandpass('wfc3,ir,f140w')\n",
    "for ix in has_gs_match:\n",
    "    templ = ref_3dhst['WAVE'].data*(1+ref_cat['zbest'][gs_idx[ix]])\n",
    "    tempf = ref_3dhst['FLAMBDA'].data[gs_idx[ix],:]\n",
    "    # Needs to be normalized to unity in the detection band\n",
    "    spec = S.ArraySpectrum(wave=templ, flux=tempf, waveunits='angstroms', fluxunits='flam')\n",
    "    spec = spec.renorm(1., 'flam', detection_bp)\n",
    "\n",
    "    id = cat['id'][ix]\n",
    "    #print(id)\n",
    "    sim.compute_single_model(id, mag=cat['MAG_AUTO'][ix], size=-1, store=False, \n",
    "                             spectrum_1d=[spec.wave, spec.flux], get_beams=None, in_place=True)"
   ]
  },
  {
   "cell_type": "code",
   "execution_count": 26,
   "metadata": {
    "collapsed": false
   },
   "outputs": [
    {
     "name": "stdout",
     "output_type": "stream",
     "text": [
      "Update niriss_F115W_00_flt.fits\n",
      "Update niriss_F115W_90_flt.fits\n",
      "Update niriss_F150W_00_flt.fits\n",
      "Update niriss_F150W_90_flt.fits\n",
      "Update niriss_F200W_00_flt.fits\n",
      "Update niriss_F200W_90_flt.fits\n"
     ]
    }
   ],
   "source": [
    "# Update SCI extension of the fake FLT images with the models just computed\n",
    "for flt in sim.FLTs:\n",
    "    print('Update', flt.grism_file)\n",
    "    orig_flt = fits.open(flt.grism_file, mode='update')\n",
    "    orig_flt['SCI'].data += flt.model[flt.pad:-flt.pad, flt.pad:-flt.pad]\n",
    "    orig_flt.flush()"
   ]
  },
  {
   "cell_type": "markdown",
   "metadata": {},
   "source": [
    "### Analyze simulated data\n",
    "Now use a `grizli.multifit.GroupFLT` object to analyze the data as if they were real observations."
   ]
  },
  {
   "cell_type": "code",
   "execution_count": 27,
   "metadata": {
    "collapsed": false
   },
   "outputs": [
    {
     "name": "stdout",
     "output_type": "stream",
     "text": [
      "Image cutout: x=slice(609, 4986, None), y=slice(997, 5250, None) [Out of range]\n",
      "niriss_F150W_90_flt.fits / blot reference hlsp_xdf_hst_wfc3ir-60mas_hudf_f140w_v1_sci.fits[0]\n",
      "Image cutout: x=slice(609, 4984, None), y=slice(997, 5250, None) [Out of range]\n",
      "Image cutout: x=slice(609, 4984, None), y=slice(997, 5250, None) [Out of range]\n",
      "niriss_F115W_00_flt.fits / blot reference hlsp_xdf_hst_wfc3ir-60mas_hudf_f140w_v1_sci.fits[0]\n",
      "niriss_F150W_00_flt.fits / blot reference hlsp_xdf_hst_wfc3ir-60mas_hudf_f140w_v1_sci.fits[0]\n",
      "Using default C-based coordinate transformation...\n",
      "Using default C-based coordinate transformation...\n",
      "Using default C-based coordinate transformation...\n",
      "Image cutout: x=slice(609, 4984, None), y=slice(997, 5250, None) [Out of range]\n",
      "niriss_F200W_00_flt.fits / blot reference hlsp_xdf_hst_wfc3ir-60mas_hudf_f140w_v1_sci.fits[0]\n",
      "Image cutout: x=slice(609, 4986, None), y=slice(997, 5250, None) [Out of range]\n",
      "niriss_F115W_90_flt.fits / blot reference hlsp_xdf_hst_wfc3ir-60mas_hudf_f140w_v1_sci.fits[0]\n",
      "Using default C-based coordinate transformation...\n",
      "Using default C-based coordinate transformation...\n",
      "Image cutout: x=slice(609, 4986, None), y=slice(997, 5250, None) [Out of range]\n",
      "niriss_F200W_90_flt.fits / blot reference hlsp_xdf_hst_wfc3ir-60mas_hudf_f140w_v1_sci.fits[0]\n",
      "Using default C-based coordinate transformation...\n",
      "Image cutout: x=slice(609, 4986, None), y=slice(997, 5250, None) [Out of range]\n",
      "niriss_F150W_90_flt.fits / Pad ref HDU with 659 pixels\n",
      "Image cutout: x=slice(609, 4986, None), y=slice(997, 5250, None) [Out of range]\n",
      "niriss_F115W_90_flt.fits / Pad ref HDU with 659 pixels\n",
      "Image cutout: x=slice(609, 4984, None), y=slice(997, 5250, None) [Out of range]\n",
      "niriss_F150W_00_flt.fits / Pad ref HDU with 659 pixels\n",
      "Image cutout: x=slice(609, 4984, None), y=slice(997, 5250, None) [Out of range]\n",
      "niriss_F115W_00_flt.fits / Pad ref HDU with 659 pixels\n",
      "Image cutout: x=slice(609, 4984, None), y=slice(997, 5250, None) [Out of range]\n",
      "Image cutout: x=slice(609, 4986, None), y=slice(997, 5250, None) [Out of range]\n",
      "niriss_F200W_00_flt.fits / Pad ref HDU with 659 pixels\n",
      "niriss_F200W_90_flt.fits / Pad ref HDU with 659 pixels\n",
      "niriss_F150W_90_flt.fits / blot segmentation udf_f140w_photutils_seg.fits[0]\n",
      "niriss_F115W_90_flt.fits / blot segmentation udf_f140w_photutils_seg.fits[0]\n",
      "niriss_F115W_00_flt.fits / blot segmentation udf_f140w_photutils_seg.fits[0]\n",
      "niriss_F150W_00_flt.fits / blot segmentation udf_f140w_photutils_seg.fits[0]\n",
      "niriss_F200W_90_flt.fits / blot segmentation udf_f140w_photutils_seg.fits[0]\n",
      "niriss_F200W_00_flt.fits / blot segmentation udf_f140w_photutils_seg.fits[0]\n",
      "Using default C-based coordinate transformation...\n",
      "Using default C-based coordinate transformation...\n",
      "Using default C-based coordinate transformation...\n",
      "Using default C-based coordinate transformation...\n",
      "Using default C-based coordinate transformation...\n",
      "Using default C-based coordinate transformation...\n",
      "Using default C-based coordinate transformation...\n",
      "Using default C-based coordinate transformation...\n",
      "Using default C-based coordinate transformation...\n",
      "Using default C-based coordinate transformation...\n",
      "Using default C-based coordinate transformation...\n",
      "Using default C-based coordinate transformation...\n",
      "Files loaded - 19.61 sec.\n"
     ]
    }
   ],
   "source": [
    "# Now reload for fitting\n",
    "grp = grizli.multifit.GroupFLT(grism_files=glob.glob('niriss_*flt.fits'), direct_files=[], \n",
    "                               ref_file='hlsp_xdf_hst_wfc3ir-60mas_hudf_f140w_v1_sci.fits',\n",
    "                               seg_file='udf_f140w_photutils_seg.fits',\n",
    "                               catalog='udf_f140w_photutils.cat',\n",
    "                               cpu_count=0, pad=200)"
   ]
  },
  {
   "cell_type": "code",
   "execution_count": 28,
   "metadata": {
    "collapsed": false
   },
   "outputs": [
    {
     "name": "stdout",
     "output_type": "stream",
     "text": [
      "niriss_F115W_00_flt.fits: _compute_model Done\n",
      "niriss_F115W_90_flt.fits: _compute_model Done\n",
      "niriss_F150W_00_flt.fits: _compute_model Done\n",
      "niriss_F150W_90_flt.fits: _compute_model Done\n",
      "niriss_F200W_00_flt.fits: _compute_model Done\n",
      "niriss_F200W_90_flt.fits: _compute_model Done\n",
      "Models computed - 48.35 sec.\n"
     ]
    }
   ],
   "source": [
    "# First pass contamination model, flat continuum\n",
    "grp.compute_full_model(mag_limit=26)"
   ]
  },
  {
   "cell_type": "code",
   "execution_count": 29,
   "metadata": {
    "collapsed": true
   },
   "outputs": [],
   "source": [
    "# Refine the (polynomial) continuum model for brighter objects\n",
    "grp.refine_list(poly_order=2, mag_limits=[16, 24], verbose=False)"
   ]
  },
  {
   "cell_type": "markdown",
   "metadata": {},
   "source": [
    "#### Fit redshifts and emission lines of a single object"
   ]
  },
  {
   "cell_type": "code",
   "execution_count": null,
   "metadata": {
    "collapsed": true
   },
   "outputs": [],
   "source": [
    "## Fit parameters\n",
    "pzfit, pspec2, pline = grizli.multifit.get_redshift_fit_defaults()\n",
    "\n",
    "# Redshift fit\n",
    "pzfit ['zr'] = [0.5, 2.4]\n",
    "pzfit['dz'] = [0.005, 0.0005]\n",
    "\n",
    "# Drizzled line maps\n",
    "pline = {'kernel': 'square', 'pixfrac': 0.8, 'pixscale': 0.06, 'size': 10}\n",
    "\n",
    "# Full rectified 2D spectrum\n",
    "pspec2 = {'NY': 20, 'dlam': 50, 'spatial_scale': 1}"
   ]
  },
  {
   "cell_type": "code",
   "execution_count": 38,
   "metadata": {
    "collapsed": false
   },
   "outputs": [
    {
     "name": "stdout",
     "output_type": "stream",
     "text": [
      "First iteration: z_best=2.3383\n",
      "\n",
      " Zoom iteration: z_best=2.3420\n",
      "\n",
      "Drizzle line -> Ha   (0.73 0.05)\n",
      "Drizzle line -> OIII (0.45 0.12)\n",
      "Drizzle line -> Hb   (0.19 0.05)\n"
     ]
    },
    {
     "data": {
      "image/png": "[encoded data removed]",
      "text/plain": [
       "<matplotlib.figure.Figure at 0x16a082ef0>"
      ]
     },
     "metadata": {},
     "output_type": "display_data"
    },
    {
     "data": {
      "image/png": "[encoded data removed]",
      "text/plain": [
       "<matplotlib.figure.Figure at 0x16cc6bfd0>"
      ]
     },
     "metadata": {},
     "output_type": "display_data"
    }
   ],
   "source": [
    "from importlib import reload\n",
    "reload(grizli.multifit)\n",
    "\n",
    "## emission line object\n",
    "id = 898 # ID in the detection catalog / segm image\n",
    "\n",
    "# Extract spectrum cutouts from individual FLTs\n",
    "beams = grp.get_beams(id, size=40)\n",
    "\n",
    "# Put them in a `MultiBeam` object\n",
    "mb = grizli.multifit.MultiBeam(beams, fcontam=1, group_name='niriss-udf')\n",
    "\n",
    "# Run the redshift fit and generate the emission line map\n",
    "out = mb.run_full_diagnostics(pzfit=pzfit, pspec2=pspec2, pline=pline,\n",
    "                              GroupFLT=grp, prior=None, verbose=False)\n",
    "\n",
    "fit, fig, fig2, hdu2, hdu_line = out"
   ]
  },
  {
   "cell_type": "code",
   "execution_count": null,
   "metadata": {
    "collapsed": true
   },
   "outputs": [],
   "source": []
  }
 ],
 "metadata": {
  "kernelspec": {
   "display_name": "Python [default]",
   "language": "python",
   "name": "python3"
  },
  "language_info": {
   "codemirror_mode": {
    "name": "ipython",
    "version": 3
   },
   "file_extension": ".py",
   "mimetype": "text/x-python",
   "name": "python",
   "nbconvert_exporter": "python",
   "pygments_lexer": "ipython3",
   "version": "3.5.2"
  }
 },
 "nbformat": 4,
 "nbformat_minor": 1
}
